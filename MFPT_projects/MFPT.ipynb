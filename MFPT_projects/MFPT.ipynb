{
 "cells": [
  {
   "cell_type": "markdown",
   "id": "9a0bbb12",
   "metadata": {},
   "source": [
    "# Mean First Passage Time with Random Walks"
   ]
  },
  {
   "cell_type": "markdown",
   "id": "39e51455",
   "metadata": {},
   "source": [
    "In this notebook, we present a simple way to evaluate the Mean First Passage Time $\\tau_{\\alpha\\beta}$ over a coloured network.\n",
    "\n",
    "First thing first, let's import all the libraries we need for this project."
   ]
  },
  {
   "cell_type": "code",
   "execution_count": 1,
   "id": "e239b3e1",
   "metadata": {},
   "outputs": [],
   "source": [
    "import random\n",
    "import os\n",
    "import collections"
   ]
  },
  {
   "cell_type": "markdown",
   "id": "536f1af6",
   "metadata": {},
   "source": [
    "First, we need to load the network \"edges_net.txt\". In each line, we have the ids of a pair of nodes. This pair  describes an edge in the network. For example: \n",
    "\n",
    "0 1 <br>\n",
    "1 2 <br>\n",
    "1 3 <br>\n",
    "2 4 <br>\n",
    "3 5 <br>"
   ]
  },
  {
   "cell_type": "code",
   "execution_count": null,
   "id": "c6d85fb8",
   "metadata": {},
   "outputs": [],
   "source": [
    "## We save the adjacency of each node in the dictionary dict_adj, where each key is a node of the network and each \n",
    "## value is the list of nodes connected to the node in the key.\n",
    "\n",
    "dict_adj={}\n",
    "\n",
    "with open (\"./edges_net.txt\") as fp:\n",
    "    for line in fp:\n",
    "        line=line.split(\" \")\n",
    "        in_edge=int(line[0])\n",
    "        out_edge=int(line[1])\n",
    "        if in_edge in dict_adj:\n",
    "            dict_adj[in_edge].add(out_edge)\n",
    "        else:\n",
    "            dict_adj[in_edge]=set()\n",
    "            dict_adj[in_edge].add(out_edge)\n",
    "            \n",
    "        if out_edge in dict_adj:\n",
    "            dict_adj[out_edge].add(in_edge)\n",
    "        else:\n",
    "            dict_adj[out_edge]=set()\n",
    "            dict_adj[out_edge].add(in_edge)\n",
    "\n",
    "for i in dict_adj:\n",
    "    dict_adj[i]=list(dict_adj[i])"
   ]
  },
  {
   "cell_type": "markdown",
   "id": "e26403d6",
   "metadata": {},
   "source": [
    "Now, we load the assignment of colours from \"id_col.txt\", where in each line we have the id of a node and the corresponding colour, i.e.: \n",
    "\n",
    "0 1 <br>\n",
    "1 0 <br>\n",
    "2 1 <br>\n",
    "3 0 <br>\n",
    "4 0 <br>\n",
    "5 1 <br>\n"
   ]
  },
  {
   "cell_type": "code",
   "execution_count": null,
   "id": "6f309142",
   "metadata": {},
   "outputs": [],
   "source": [
    "## We save the colour of each node in the dictionary dict_col, where each key is a node of the network and each \n",
    "## value is the colour of the node in the key. We also collect all the colours in the set colours.\n",
    "\n",
    "dict_col={}\n",
    "colours=set()\n",
    "\n",
    "with open (\"./id_col.txt\") as fp:\n",
    "    for line in fp:\n",
    "        line=line.split(\" \")\n",
    "        node=int(line[0])\n",
    "        colour=int(line[1])\n",
    "        colours.add(colour)\n",
    "        dict_col[node]=colour"
   ]
  },
  {
   "cell_type": "markdown",
   "id": "3574c42a",
   "metadata": {},
   "source": [
    "Now, we are ready to evaluate the MFPT for each node of the newtork, for each of the available colours. "
   ]
  },
  {
   "cell_type": "code",
   "execution_count": null,
   "id": "fa2a028e",
   "metadata": {},
   "outputs": [],
   "source": [
    "## We save the MFPT of each node to each of the colours available in the dictionary dict_hitting., where each key \n",
    "## is a node of the network, along with a value that is a list of the MFPT to all the available colours.\n",
    "## Here, we initialise all the values of dict_hitting with lists of zero.\n",
    "\n",
    "dict_hitting={}\n",
    "\n",
    "for i in dict_col:\n",
    "    dict_hitting[i]=[]\n",
    "    for j in range(0,len(colours)):\n",
    "        dict_hitting[i].append(0)\n"
   ]
  },
  {
   "cell_type": "code",
   "execution_count": null,
   "id": "61678e0f",
   "metadata": {},
   "outputs": [],
   "source": [
    "## Here we define r_walkers as the number of random walks we want to run for evaluating MFPT starting from each node \n",
    "## of the net. \n",
    "\n",
    "r_walkers=10000\n",
    "size_net=len(dict_col)\n"
   ]
  },
  {
   "cell_type": "code",
   "execution_count": null,
   "id": "d3eea7f0",
   "metadata": {},
   "outputs": [],
   "source": [
    "## Finally, we run the walks for all the q colours, collecting the MFPT in dict_hitting. Notice that we evaluate \n",
    "## MFPT from a node i to a node with colour q as the average over all the r_walkers. \n",
    "\n",
    "for i in dict_col:\n",
    "    for q in list(colours):\n",
    "        sum_walks_MFPT=0.0\n",
    "        for j in range (0, r_walkers):\n",
    "            hitting_target=q\n",
    "            current_colour=\"\"\n",
    "            current_node=i\n",
    "            while (current_colour!=hitting_target):\n",
    "                node_choice=random.choice(dict_adj[current_node])\n",
    "                sum_walks_MFPT=sum_walks_MFPT+1.0\n",
    "                current_colour=dict_col[node_choice]\n",
    "                current_node=node_choice\n",
    "        average_walks_MFPT=sum_walks_MFPT/float(r_walkers)\n",
    "        dict_hitting[i][q]=average_walks_MFPT"
   ]
  }
 ],
 "metadata": {
  "kernelspec": {
   "display_name": "Python 3",
   "language": "python",
   "name": "python3"
  },
  "language_info": {
   "codemirror_mode": {
    "name": "ipython",
    "version": 3
   },
   "file_extension": ".py",
   "mimetype": "text/x-python",
   "name": "python",
   "nbconvert_exporter": "python",
   "pygments_lexer": "ipython3",
   "version": "3.8.8"
  }
 },
 "nbformat": 4,
 "nbformat_minor": 5
}
