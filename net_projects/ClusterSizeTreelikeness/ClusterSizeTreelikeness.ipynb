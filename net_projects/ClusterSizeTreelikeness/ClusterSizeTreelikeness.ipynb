{
 "cells": [
  {
   "cell_type": "markdown",
   "id": "168ede97",
   "metadata": {},
   "source": [
    "# Cluster Size Treelikeness\n",
    "\n",
    "In this notebook, we present a simple way to obtain, given a coloured network, all the subgraphs with one colour, their size and their treelikeness.\n",
    "\n",
    "First thing first, let's import all the libraries we need for this project."
   ]
  },
  {
   "cell_type": "code",
   "execution_count": 1,
   "id": "5d300bdf",
   "metadata": {},
   "outputs": [],
   "source": [
    "import os\n",
    "import collections"
   ]
  },
  {
   "cell_type": "markdown",
   "id": "65f7fd82",
   "metadata": {},
   "source": [
    "We need to load the colour assignment from \"id_col.txt\". In each line we have the id of a node and the corresponding colour, i.e.: \n",
    "\n",
    "0 1 <br>\n",
    "1 0 <br>\n",
    "2 1 <br>\n",
    "3 0 <br>\n",
    "4 0 <br>\n",
    "5 1 <br>"
   ]
  },
  {
   "cell_type": "code",
   "execution_count": 8,
   "id": "25193a61",
   "metadata": {},
   "outputs": [],
   "source": [
    "## We save the colour of each node in the dictionary dict_nodes, where each key is a node of the network and each \n",
    "## value is a list of the colour of the key node and an empty set. \n",
    "\n",
    "dict_nodes={}\n",
    "\n",
    "with open (\"./id_col.txt\") as fp:\n",
    "    for line in fp:\n",
    "        line=line.split(\" \")\n",
    "        if int(line[1])==1:\n",
    "            first_colour=set()\n",
    "            dict_nodes[int(line[0])]=[\"colour_1\", first_colour]\n",
    "        elif int(line[1])==2:\n",
    "            second_colour=set()\n",
    "            dict_nodes[int(line[0])]=[\"colour_2\", second_colour]\n",
    "        else:\n",
    "            third_colour=set()\n",
    "            dict_nodes[int(line[0])]=[\"colour_3\", third_colour]\n",
    "        "
   ]
  },
  {
   "cell_type": "markdown",
   "id": "7fde6f00",
   "metadata": {},
   "source": [
    "Then, we load the network \"edges_net.txt\" in the list net. In each line of \"edges_net.txt\" we have the ids of a pair of nodes. This pair  describes an edge in the network. For example: \n",
    "\n",
    "0 1 <br>\n",
    "1 2 <br>\n",
    "1 3 <br>\n",
    "2 4 <br>\n",
    "3 5 <br>"
   ]
  },
  {
   "cell_type": "code",
   "execution_count": 13,
   "id": "6697f33e",
   "metadata": {},
   "outputs": [],
   "source": [
    "## We collect in net all the edges in pairs of node ids.\n",
    "\n",
    "net=[]\n",
    "\n",
    "with open (\"./edges_net.txt\") as fp:\n",
    "    for line in fp:\n",
    "        line=line.split(\" \")\n",
    "        pair=[]\n",
    "        pair.append(int(line[0]))\n",
    "        pair.append(int(line[1]))\n",
    "        net.append(pair)"
   ]
  },
  {
   "cell_type": "markdown",
   "id": "4a9fa716",
   "metadata": {},
   "source": [
    "Now, for each current_sx and current_dx node in dict_nodes, we collect in the empty set in dict_nodes the ids of their adjacent nodes from net."
   ]
  },
  {
   "cell_type": "code",
   "execution_count": 10,
   "id": "b9a078ab",
   "metadata": {},
   "outputs": [],
   "source": [
    "for i in range (0, len(net)):\n",
    "    current_sx=net[i][0]\n",
    "    dict_nodes[current_sx][1].add(net[i][1])\n",
    "\n",
    "for i in range (0, len(net)):\n",
    "    current_dx=net[i][1]\n",
    "    dict_nodes[current_dx][1].add(net[i][0])"
   ]
  },
  {
   "cell_type": "markdown",
   "id": "7e507297",
   "metadata": {},
   "source": [
    "We transform all the adjacency sets dict_nodes[i][1] in lists."
   ]
  },
  {
   "cell_type": "code",
   "execution_count": 16,
   "id": "4f5a05e6",
   "metadata": {},
   "outputs": [],
   "source": [
    "for i in dict_nodes:\n",
    "    transformed=list(dict_nodes[i][1])\n",
    "    dict_nodes[i][1]=transformed"
   ]
  },
  {
   "cell_type": "markdown",
   "id": "7f9f192a",
   "metadata": {},
   "source": [
    "Now we are ready for collecting subgraphs, i.e. clusters. "
   ]
  },
  {
   "cell_type": "code",
   "execution_count": 50,
   "id": "619019eb",
   "metadata": {},
   "outputs": [],
   "source": [
    "## We collect all the clusters with colour colour_1 in the list collection_cluster. \n",
    "## We also create the empty set visited_nodes to keep track of the visited nodes in the \n",
    "## process of exploring the network.\n",
    "\n",
    "collection_cluster=[]\n",
    "colour_cluster=\"colour_1\"\n",
    "visited_nodes=set()\n"
   ]
  },
  {
   "cell_type": "code",
   "execution_count": 51,
   "id": "e42579d2",
   "metadata": {},
   "outputs": [],
   "source": [
    "## We explore the network. For each node in dict_nodes, we collect the maximal connected \n",
    "## subgraph with colour_1. We also flag the explored nodes while visiting the network.\n",
    "\n",
    "for node in dict_nodes:\n",
    "    \n",
    "    if dict_nodes[node][0]==colour_cluster and node not in visited_nodes:\n",
    "        \n",
    "        visited_nodes.add(node)\n",
    "        key_current_node=node\n",
    "        current_cluster=[]\n",
    "        current_node=dict_nodes[key_current_node]\n",
    "        \n",
    "        control_set=set()\n",
    "        control_list=[]\n",
    "        flag_set=set()\n",
    "\n",
    "        current_cluster.append(key_current_node)\n",
    "        flag_set.add(key_current_node)\n",
    "\n",
    "        for i in range (0, len(current_node[1])):\n",
    "            current=current_node[1][i]\n",
    "            control_set.add(current)\n",
    "            if dict_nodes[current][0]==current_node[0]:\n",
    "                current_cluster.append(current)\n",
    "\n",
    "        control_list=list(control_set)\n",
    "\n",
    "        count=1\n",
    "\n",
    "        while count > 0:\n",
    "            control_list=list(control_set)\n",
    "            for j in range (0, len(control_list)):\n",
    "                current=control_list[j]\n",
    "                if dict_nodes[current][0]==current_node[0]:\n",
    "                    current_bis=dict_nodes[control_list[j]][1]\n",
    "                    for q in range (0, len(current_bis)):\n",
    "                        control_list.append(current_bis[q])\n",
    "                        if dict_nodes[current_bis[q]][0]==current_node[0]:\n",
    "                            current_cluster.append(current_bis[q])\n",
    "                flag_set.add(control_list[j])\n",
    "\n",
    "            control_set=set(control_list)           \n",
    "\n",
    "            for j in flag_set:\n",
    "                if j in control_set:\n",
    "                    control_set.remove(j)\n",
    "\n",
    "            count=len(control_set)\n",
    "\n",
    "        for element in set(current_cluster):\n",
    "            visited_nodes.add(element)\n",
    "        current_cluster=list(set(current_cluster))\n",
    "        collection_cluster.append(current_cluster)\n",
    "        \n"
   ]
  },
  {
   "cell_type": "markdown",
   "id": "e9e9cd3b",
   "metadata": {},
   "source": [
    "Then, we can easily collect all the sizes of clusters."
   ]
  },
  {
   "cell_type": "code",
   "execution_count": 52,
   "id": "b79974a1",
   "metadata": {},
   "outputs": [],
   "source": [
    "collection_size=[]\n",
    "\n",
    "for i in collection_cluster:\n",
    "    current_size=len(i)\n",
    "    collection_size.append(current_size)\n"
   ]
  },
  {
   "cell_type": "markdown",
   "id": "ebc9670f",
   "metadata": {},
   "source": [
    "Now we are ready for collecting the treelikeness of each cluster."
   ]
  },
  {
   "cell_type": "code",
   "execution_count": 54,
   "id": "abbedb33",
   "metadata": {},
   "outputs": [],
   "source": [
    "## We count the internal edges, i.e. the edges_in of each cluster. \n",
    "## To do that, we check if the adjacent nodes show the same colour of the check_node.\n",
    "## Then, we divide by 2, and we obtain the treelikeness as the ration betwe\n",
    "\n",
    "collection_treel=[]\n",
    "\n",
    "for q in range(0,len(collection_cluster)):\n",
    "    current_cluster=collection_cluster[q]\n",
    "   \n",
    "    edges_in=0\n",
    "    for i in range(0, len(current_cluster)):\n",
    "        check_node=dict_nodes[current_cluster[i]]\n",
    "        for j in range (0, len (check_node[1])):\n",
    "            if dict_nodes[check_node[1][j]][0]==colour_cluster:\n",
    "                edges_in=edges_in+1\n",
    "    edges_in=edges_in/2\n",
    "    \n",
    "    if edges_in==0 or (len(current_cluster)-1)==0:\n",
    "        treel=0.0\n",
    "    else:\n",
    "        treel=(len(current_cluster)-1)/edges_in\n",
    "        \n",
    "    collection_treel.append(treel)\n"
   ]
  }
 ],
 "metadata": {
  "kernelspec": {
   "display_name": "Python 3",
   "language": "python",
   "name": "python3"
  },
  "language_info": {
   "codemirror_mode": {
    "name": "ipython",
    "version": 3
   },
   "file_extension": ".py",
   "mimetype": "text/x-python",
   "name": "python",
   "nbconvert_exporter": "python",
   "pygments_lexer": "ipython3",
   "version": "3.8.8"
  }
 },
 "nbformat": 4,
 "nbformat_minor": 5
}
