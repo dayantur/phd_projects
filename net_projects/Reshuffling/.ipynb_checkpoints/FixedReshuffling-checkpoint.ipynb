{
 "cells": [
  {
   "cell_type": "markdown",
   "id": "de1b3cf6",
   "metadata": {},
   "source": [
    "# Reshuffling of the assignment of colours over coloured nodes\n",
    "## The case of fixed reshuffling\n",
    "\n",
    "In this notebook, we present a simple way to reshuffle the assignment of colours over the nodes of a network, keeping one of the three available colours fixed.\n",
    "\n",
    "First thing first, let's import all the libraries we need for this project."
   ]
  },
  {
   "cell_type": "code",
   "execution_count": 1,
   "id": "6975150d",
   "metadata": {},
   "outputs": [],
   "source": [
    "import os\n",
    "import collections\n",
    "import random"
   ]
  },
  {
   "cell_type": "markdown",
   "id": "4b95c860",
   "metadata": {},
   "source": [
    "First, we need to load the network \"edges_net.txt\". In each line, we have the ids of a pair of nodes. This pair  describes an edge in the network. For example: \n",
    "\n",
    "0 1 <br>\n",
    "1 2 <br>\n",
    "1 3 <br>\n",
    "2 4 <br>\n",
    "3 5 <br>"
   ]
  },
  {
   "cell_type": "code",
   "execution_count": null,
   "id": "76f0c1b6",
   "metadata": {},
   "outputs": [],
   "source": [
    "## We save the adjacency of each node in the dictionary dict_adj, where each key is a node of the network and each \n",
    "## value is the list of nodes connected to the node in the key.\n",
    "\n",
    "dict_adj={}\n",
    "\n",
    "with open (\"./edges_net.txt\") as fp:\n",
    "    for line in fp:\n",
    "        line=line.split(\" \")\n",
    "        in_edge=int(line[0])\n",
    "        out_edge=int(line[1])\n",
    "        if in_edge in dict_adj:\n",
    "            dict_adj[in_edge].add(out_edge)\n",
    "        else:\n",
    "            dict_adj[in_edge]=set()\n",
    "            dict_adj[in_edge].add(out_edge)\n",
    "            \n",
    "        if out_edge in dict_adj:\n",
    "            dict_adj[out_edge].add(in_edge)\n",
    "        else:\n",
    "            dict_adj[out_edge]=set()\n",
    "            dict_adj[out_edge].add(in_edge)\n",
    "\n",
    "for i in dict_adj:\n",
    "    dict_adj[i]=list(dict_adj[i])\n",
    "    "
   ]
  },
  {
   "cell_type": "markdown",
   "id": "f93608eb",
   "metadata": {},
   "source": [
    "Now, we load the assignment of colours from \"id_col.txt\", where in each line we have the id of a node and the corresponding colour, i.e.: \n",
    "\n",
    "0 1 <br>\n",
    "1 0 <br>\n",
    "2 1 <br>\n",
    "3 0 <br>\n",
    "4 0 <br>\n",
    "5 1 <br>\n"
   ]
  },
  {
   "cell_type": "code",
   "execution_count": null,
   "id": "0b9dca32",
   "metadata": {},
   "outputs": [],
   "source": [
    "## We save the colour of each node in the dictionary dict_col, where each key is a node of the network and each \n",
    "## value is the colour of the node in the key. We also collect all the colours in the set colours.\n",
    "\n",
    "\n",
    "dict_col={}\n",
    "colours=set()\n",
    "\n",
    "with open (\"./id_col.txt\") as fp:\n",
    "    for line in fp:\n",
    "        line=line.split(\" \")\n",
    "        node=int(line[0])\n",
    "        colour=int(line[1])\n",
    "        colours.add(colour)\n",
    "        dict_col[node]=colour"
   ]
  },
  {
   "cell_type": "markdown",
   "id": "842ac596",
   "metadata": {},
   "source": [
    "Now we create dict_col_restricted, where we save all the nodes with the colours \"1\" and \"2\". "
   ]
  },
  {
   "cell_type": "code",
   "execution_count": null,
   "id": "55b8a162",
   "metadata": {},
   "outputs": [],
   "source": [
    "dict_col_restricted={}\n",
    "\n",
    "for i in dict_col:\n",
    "    if dict_col[i]==1 or dict_col[i]==2:\n",
    "        dict_col_restricted[i]=dict_col[i]\n"
   ]
  },
  {
   "cell_type": "markdown",
   "id": "d30e4f3a",
   "metadata": {},
   "source": [
    "We save the list of colours for this dictionary in all_col."
   ]
  },
  {
   "cell_type": "code",
   "execution_count": null,
   "id": "aac8ca81",
   "metadata": {},
   "outputs": [],
   "source": [
    "all_col=[]\n",
    "\n",
    "for i in dict_col_restricted:\n",
    "    all_col.append(dict_col_restricted[i])"
   ]
  },
  {
   "cell_type": "markdown",
   "id": "58719b2e",
   "metadata": {},
   "source": [
    "And then we do a reshuffle."
   ]
  },
  {
   "cell_type": "code",
   "execution_count": null,
   "id": "582167f0",
   "metadata": {},
   "outputs": [],
   "source": [
    "all_col_r = random.sample(all_col, len(all_col))"
   ]
  },
  {
   "cell_type": "markdown",
   "id": "363ae172",
   "metadata": {},
   "source": [
    "Then, we create a dictionary dict_resh where we assign the reshuffled colours to the nodes we had in the dict_col_restricted."
   ]
  },
  {
   "cell_type": "code",
   "execution_count": null,
   "id": "32e179e5",
   "metadata": {},
   "outputs": [],
   "source": [
    "dict_resh={}\n",
    "count=0\n",
    "\n",
    "for i in dict_col_restricted:\n",
    "    dict_resh[i]=all_col_r[count]\n",
    "    count=count+1"
   ]
  },
  {
   "cell_type": "markdown",
   "id": "083f8214",
   "metadata": {},
   "source": [
    "Now we are ready to collect all the nodes with the new colour assignment in dict_final, where we merge the dict_resh and the nodes with colour \"0\" from the dict_col."
   ]
  },
  {
   "cell_type": "code",
   "execution_count": null,
   "id": "b4e8006c",
   "metadata": {},
   "outputs": [],
   "source": [
    "dict_final={}\n",
    "for i in dict_col:\n",
    "    if i in dict_resh:\n",
    "        dict_final[i]=dict_resh[i]\n",
    "    else:\n",
    "        dict_final[i]=dict_col[i]"
   ]
  }
 ],
 "metadata": {
  "kernelspec": {
   "display_name": "Python 3",
   "language": "python",
   "name": "python3"
  },
  "language_info": {
   "codemirror_mode": {
    "name": "ipython",
    "version": 3
   },
   "file_extension": ".py",
   "mimetype": "text/x-python",
   "name": "python",
   "nbconvert_exporter": "python",
   "pygments_lexer": "ipython3",
   "version": "3.8.8"
  }
 },
 "nbformat": 4,
 "nbformat_minor": 5
}
