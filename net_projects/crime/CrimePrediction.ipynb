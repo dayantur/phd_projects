{
 "cells": [
  {
   "cell_type": "markdown",
   "id": "285f77f7-613b-4b30-b2f9-81bb11299678",
   "metadata": {},
   "source": [
    "## Logistic Regression Model based on Spatial Proximity for Violent Crime Probability Prediction"
   ]
  },
  {
   "cell_type": "markdown",
   "id": "a9e8fc6b-5687-47a6-81e6-4ca793236db9",
   "metadata": {},
   "source": [
    "_Example_: From the **spatial pattern analysis**, we observe that **violence tends to form clustered regions in the city**, i.e. **spatial proximity** seems involved. Accordingly, we tailor our **Logistic Regression Model** based on **spatial features** that capture spatial proximity, such as:\n",
    "\n",
    "- **Presence of Violent Crime** (true/false);\n",
    "- **Presence of Violent Crime in the 1st NN** (true if at least one 1stNN is true);\n",
    "- **Presence of Violent Crime in the 2nd NN** (true if at least one 2ndNN is true, except from 1stNN);\n",
    "  \n",
    "And obtain the **probability of violent crime occurrence**."
   ]
  },
  {
   "cell_type": "markdown",
   "id": "beb012de-45d0-4833-9c08-1ed1c741c101",
   "metadata": {},
   "source": [
    "Datasets in the code below refer to the following spatial coloured networks:\n",
    "![Datasets](https://i.ibb.co/xgRPdf6/Screenshot-2024-06-05-at-18-45-54.png)\n",
    "Where colour **red** refers to the presence of violent crime in that urban area and colour grey is assigned to urban area 7, which is the one we want to predict. "
   ]
  },
  {
   "cell_type": "code",
   "execution_count": 67,
   "id": "6b117e08-3b00-45ea-95a8-169878749908",
   "metadata": {},
   "outputs": [
    {
     "name": "stdout",
     "output_type": "stream",
     "text": [
      "Dataset A: Predicted probability of violent crime occurrence: 0.2\n",
      "Dataset B: Predicted probability of violent crime occurrence: 0.23\n",
      "Dataset C: Predicted probability of violent crime occurrence: 0.27\n",
      "Dataset D: Predicted probability of violent crime occurrence: 0.38\n",
      "Dataset E: Predicted probability of violent crime occurrence: 0.55\n"
     ]
    }
   ],
   "source": [
    "import pandas as pd\n",
    "from sklearn.linear_model import LogisticRegression\n",
    "\n",
    "# Define datasets\n",
    "datasets = {\n",
    "    'A': {\n",
    "        'data': {\n",
    "            'Urban Area': [0, 1, 2, 3, 4, 5],\n",
    "            'CrimeHere': [1, 0, 0, 0, 1, 0],\n",
    "            'Crime1stNN': [0, 1, 1, 1, 0, 0],\n",
    "            'Crime2ndNN': [1, 0, 0, 0, 1, 1]\n",
    "        },\n",
    "        'new_data': {'Crime1stNN': [1], 'Crime2ndNN': [0]}\n",
    "    },\n",
    "    'B': {\n",
    "        'data': {\n",
    "            'Urban Area': [0, 1, 2, 3, 4, 5],\n",
    "            'CrimeHere': [1, 0, 1, 0, 0, 0],\n",
    "            'Crime1stNN': [1, 1, 1, 1, 1, 0],\n",
    "            'Crime2ndNN': [0, 0, 0, 0, 1, 1]\n",
    "        },\n",
    "        'new_data': {'Crime1stNN': [0], 'Crime2ndNN': [1]}\n",
    "    },\n",
    "    'C': {\n",
    "        'data': {\n",
    "            'Urban Area': [0, 1, 2, 3, 4, 5],\n",
    "            'CrimeHere': [0, 0, 1, 0, 1, 0],\n",
    "            'Crime1stNN': [1, 1, 1, 1, 1, 0],\n",
    "            'Crime2ndNN': [1, 0, 0, 0, 0, 1]\n",
    "        },\n",
    "        'new_data': {'Crime1stNN': [1], 'Crime2ndNN': [1]}\n",
    "    },\n",
    "    'D': {\n",
    "        'data': {\n",
    "            'Urban Area': [0, 1, 2, 3, 4, 5],\n",
    "            'CrimeHere': [0, 1, 1, 0, 1, 0],\n",
    "            'Crime1stNN': [1, 1, 1, 1, 1, 0],\n",
    "            'Crime2ndNN': [1, 0, 0, 1, 0, 1]\n",
    "        },\n",
    "        'new_data': {'Crime1stNN': [1], 'Crime2ndNN': [1]}\n",
    "    },\n",
    "    'E': {\n",
    "        'data': {\n",
    "            'Urban Area': [0, 1, 2, 3, 4, 5],\n",
    "            'CrimeHere': [0, 0, 1, 0, 1, 1],\n",
    "            'Crime1stNN': [1, 1, 1, 1, 1, 0],\n",
    "            'Crime2ndNN': [1, 0, 1, 0, 1, 1]\n",
    "        },\n",
    "        'new_data': {'Crime1stNN': [1], 'Crime2ndNN': [1]}\n",
    "    }\n",
    "}\n",
    "\n",
    "# Initialize a list to store the results\n",
    "results = []\n",
    "\n",
    "# Iterate over each dataset\n",
    "for dataset_name, dataset in datasets.items():\n",
    "    df = pd.DataFrame(dataset['data'])\n",
    "    X = df[['Crime1stNN', 'Crime2ndNN']]\n",
    "    y = df['CrimeHere']\n",
    "    \n",
    "    # Initialize and train the Logistic Regression model\n",
    "    model = LogisticRegression()\n",
    "    model.fit(X, y)\n",
    "    \n",
    "    # Prepare new data as a DataFrame with the correct feature names\n",
    "    new_data_df = pd.DataFrame(dataset['new_data'])\n",
    "    \n",
    "    # Predict the probability of crime occurrence in a new urban area\n",
    "    prediction = model.predict_proba(new_data_df)\n",
    "    \n",
    "    # Round the probability to 2 decimal places\n",
    "    rounded_prediction = round(prediction[0][1], 2)\n",
    "    \n",
    "    # Print the result\n",
    "    print(f\"Dataset {dataset_name}: Predicted probability of violent crime occurrence:\", rounded_prediction)\n",
    "    \n",
    "    # Append the result to the list\n",
    "    results.append({\n",
    "        'Dataset': dataset_name,\n",
    "        'Predicted Probability': rounded_prediction\n",
    "    })\n",
    "\n",
    "# Convert the results list to a DataFrame\n",
    "results_df = pd.DataFrame(results)\n",
    "\n"
   ]
  },
  {
   "cell_type": "code",
   "execution_count": null,
   "id": "2480f6af-2f6e-4125-8e7f-8189f1e91b0b",
   "metadata": {},
   "outputs": [],
   "source": []
  },
  {
   "cell_type": "code",
   "execution_count": null,
   "id": "f546634e-67f5-47f8-90fd-bde472b11688",
   "metadata": {},
   "outputs": [],
   "source": []
  },
  {
   "cell_type": "code",
   "execution_count": null,
   "id": "f2de7fe1-59b7-4f37-ad25-1d3b35e7ba71",
   "metadata": {},
   "outputs": [],
   "source": []
  },
  {
   "cell_type": "code",
   "execution_count": null,
   "id": "bb6bc9db-7956-4a85-aa14-090b1a5fe348",
   "metadata": {},
   "outputs": [],
   "source": []
  }
 ],
 "metadata": {
  "kernelspec": {
   "display_name": "Python 3 (ipykernel)",
   "language": "python",
   "name": "python3"
  },
  "language_info": {
   "codemirror_mode": {
    "name": "ipython",
    "version": 3
   },
   "file_extension": ".py",
   "mimetype": "text/x-python",
   "name": "python",
   "nbconvert_exporter": "python",
   "pygments_lexer": "ipython3",
   "version": "3.9.6"
  }
 },
 "nbformat": 4,
 "nbformat_minor": 5
}
