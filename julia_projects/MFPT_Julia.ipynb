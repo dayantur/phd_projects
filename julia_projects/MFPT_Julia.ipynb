{
 "cells": [
  {
   "cell_type": "markdown",
   "id": "decc35f8",
   "metadata": {},
   "source": [
    "# Mean First Passage Time with Random Walks on Julia"
   ]
  },
  {
   "cell_type": "markdown",
   "id": "8d6f10ac",
   "metadata": {},
   "source": [
    "In this notebook, we present a simple way to evaluate the Mean First Passage Time $\\tau_{\\alpha\\beta}$ over a coloured network with the help of Julia language."
   ]
  },
  {
   "cell_type": "markdown",
   "id": "4a0a49f0",
   "metadata": {},
   "source": [
    "First, we need to load the network \"edges_net.txt\". In each line, we have the ids of a pair of nodes. This pair  describes an edge in the network. For example: \n",
    "\n",
    "0 1 <br>\n",
    "1 2 <br>\n",
    "1 3 <br>\n",
    "2 4 <br>\n",
    "3 5 <br>"
   ]
  },
  {
   "cell_type": "code",
   "execution_count": null,
   "id": "ac9b5abd",
   "metadata": {},
   "outputs": [],
   "source": [
    "## We save the adjacency of each node in the dictionary dict_adj, where each key is a node of the network and each \n",
    "## value is the list of nodes connected to the node in the key.\n",
    "\n",
    "dict_adj=Dict()\n",
    "\n",
    "for line in eachline(\"./edges_net.txt\")\n",
    "    new_line=rsplit(line, \" \")\n",
    "    new_line_vec = parse.(Int64,new_line)\n",
    "    in_edge=new_line_vec[1]\n",
    "    out_edge=new_line_vec[2]\n",
    "    if haskey(dict_adj, in_edge)\n",
    "        dict_adj[in_edge]= push!(dict_adj[in_edge],out_edge)  \n",
    "    else\n",
    "        dict_adj[in_edge]=Set()\n",
    "        dict_adj[in_edge]= push!(dict_adj[in_edge],out_edge)    \n",
    "    end\n",
    "    if haskey(dict_adj, out_edge)\n",
    "        dict_adj[out_edge]= push!(dict_adj[out_edge],in_edge)  \n",
    "    else\n",
    "        dict_adj[out_edge]=Set()\n",
    "        dict_adj[out_edge]= push!(dict_adj[out_edge],in_edge)    \n",
    "    end\n",
    "end\n",
    "\n",
    "for i in keys(dict_adj)\n",
    "    dict_adj[i]=collect(dict_adj[i])\n",
    "end"
   ]
  },
  {
   "cell_type": "markdown",
   "id": "630b1911",
   "metadata": {},
   "source": [
    "Now, we load the assignment of colours from \"id_col.txt\", where in each line we have the id of a node and the corresponding colour, i.e.: \n",
    "\n",
    "0 1 <br>\n",
    "1 0 <br>\n",
    "2 1 <br>\n",
    "3 0 <br>\n",
    "4 0 <br>\n",
    "5 1 <br>"
   ]
  },
  {
   "cell_type": "code",
   "execution_count": null,
   "id": "042d78aa",
   "metadata": {},
   "outputs": [],
   "source": [
    "## We save the colour of each node in the dictionary dict_col, where each key is a node of the network and each \n",
    "## value is the colour of the node in the key. We also collect all the colours in the set colours.\n",
    "\n",
    "dict_col=Dict()\n",
    "colours=Set()\n",
    "\n",
    "for line in eachline(\"./id_col.txt\")\n",
    "    new_line=rsplit(line, \" \")\n",
    "    new_line_vec = parse.(Int64,new_line)\n",
    "    node=(new_line_vec[1])\n",
    "    colour=(new_line_vec[2])\n",
    "    colours=push!(colours,colour)\n",
    "    dict_col[node]=colour\n",
    "end"
   ]
  },
  {
   "cell_type": "markdown",
   "id": "c304abe8",
   "metadata": {},
   "source": [
    "Now, we are ready to evaluate the MFPT for each node of the newtork, for each of the available colours. "
   ]
  },
  {
   "cell_type": "code",
   "execution_count": null,
   "id": "9dd9430a",
   "metadata": {},
   "outputs": [],
   "source": [
    "## We save the MFPT of each node to each of the colours available in the dictionary dict_hitting., where each key \n",
    "## is a node of the network, along with a value that is a list of the MFPT to all the available colours.\n",
    "## Here, we initialise all the values of dict_hitting with lists of zero.\n",
    "\n",
    "dict_hitting=Dict()\n",
    "\n",
    "for i in keys(dict_col)\n",
    "    dict_hitting[i]=[]\n",
    "    for j = 1:length(colours)\n",
    "        dict_hitting[i]=append!(dict_hitting[i], 0)\n",
    "    end\n",
    "end"
   ]
  },
  {
   "cell_type": "code",
   "execution_count": null,
   "id": "b44ba655",
   "metadata": {},
   "outputs": [],
   "source": [
    "## Here we define r_walkers as the number of random walks we want to run for evaluating MFPT starting from each node \n",
    "## of the net. \n",
    "\n",
    "r_walkers=1000\n",
    "size_net=length(dict_col)"
   ]
  },
  {
   "cell_type": "code",
   "execution_count": null,
   "id": "699db716",
   "metadata": {},
   "outputs": [],
   "source": [
    "## Finally, we run the walks for all the q colours, collecting the MFPT in dict_hitting. Notice that we evaluate \n",
    "## MFPT from a node i to a node with colour q as the average over all the r_walkers. \n",
    "\n",
    "for i in keys(dict_col)\n",
    "    for q in collect(colours)\n",
    "        sum_walks_MFPT=0.0\n",
    "        for j = 1:r_walkers\n",
    "            hitting_target=q\n",
    "            current_colour=\"\"\n",
    "            current_node=i\n",
    "            while (current_colour!=hitting_target)\n",
    "                node_choice=rand(dict_adj[current_node])\n",
    "                sum_walks_MFPT=sum_walks_MFPT+1.0\n",
    "                current_colour=dict_col[node_choice]\n",
    "                current_node=node_choice\n",
    "            end\n",
    "        end\n",
    "        average_walks_MFPT=sum_walks_MFPT/r_walkers\n",
    "        dict_hitting[i][q+1]=average_walks_MFPT\n",
    "\n",
    "    end\n",
    "end"
   ]
  }
 ],
 "metadata": {
  "kernelspec": {
   "display_name": "Julia 1.8.2",
   "language": "julia",
   "name": "julia-1.8"
  },
  "language_info": {
   "file_extension": ".jl",
   "mimetype": "application/julia",
   "name": "julia",
   "version": "1.8.2"
  }
 },
 "nbformat": 4,
 "nbformat_minor": 5
}
