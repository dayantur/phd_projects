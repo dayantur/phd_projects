{
 "cells": [
  {
   "cell_type": "markdown",
   "id": "774ab356",
   "metadata": {},
   "source": [
    "## Import libraries.\n",
    "\n",
    "Import the necessary libraries."
   ]
  },
  {
   "cell_type": "code",
   "execution_count": 5,
   "id": "14e6e9a6",
   "metadata": {},
   "outputs": [],
   "source": [
    "import random\n",
    "import math \n",
    "import collections\n",
    "import numpy as np\n",
    "import matplotlib.pyplot as plt"
   ]
  },
  {
   "cell_type": "markdown",
   "id": "b5c8ea29",
   "metadata": {},
   "source": [
    "## Set the size of you EGM cluster."
   ]
  },
  {
   "cell_type": "code",
   "execution_count": 6,
   "id": "bf4a46b1",
   "metadata": {},
   "outputs": [],
   "source": [
    "size = 100"
   ]
  },
  {
   "cell_type": "markdown",
   "id": "2f4769f3",
   "metadata": {},
   "source": [
    "## Define classes and functions.\n",
    "\n",
    "This is a \"classy\" version of the EGM generator - meaning that we used a more advanced code, with the definition of  **Node** and **Network** classes. It is slower than the Basic Generator, but it produce a real network, with all the information on coordinates of both the cluster and the cluster frontier. These infos are useful when you want to use cluster and frontier coordinates for some networkish analysis."
   ]
  },
  {
   "cell_type": "code",
   "execution_count": 7,
   "id": "e47a4527",
   "metadata": {},
   "outputs": [],
   "source": [
    "# Node Class\n",
    "class Node:\n",
    "\n",
    "    # The Node has coordinates, color and a visited status that can be true or false\n",
    "    def __init__(self, coordinates, color, status, number): \n",
    "        self.coordinates = coordinates\n",
    "        self.color = color\n",
    "        self.visited = status\n",
    "        self.number = number\n",
    "\n",
    "    # This hash function maps the node's coordinates to a unique numeric key    \n",
    "    def numKey(self):\n",
    "        x = self.coordinates[0]\n",
    "        y = self.coordinates[1]\n",
    "        tmp = (y + ((x+1)/2))\n",
    "        return x + (tmp * tmp)\n",
    "    \n",
    "# Function that takes the node's coordinates from the network (i.e., its key) and returns the key as a string\n",
    "def networkNodeKey(coordinates):\n",
    "    return str(coordinates[0]) + ',' + str(coordinates[1])\n",
    "\n",
    "# Network Class\n",
    "class Network:\n",
    "\n",
    "    # The Network is a dictionary of all nodes\n",
    "    def __init__(self):\n",
    "        self.nodesDict = {}\n",
    "    \n",
    "    # Function that adds a node to the network and assigns its unique coordinates\n",
    "    def add(self, node):\n",
    "        key = networkNodeKey(node.coordinates)\n",
    "        self.nodesDict[key] = node\n",
    "    \n",
    "    # Function that returns the value of the inserted key (i.e., the color and status of a node at the x,y coordinates)\n",
    "    def getNode(self, coordinates):\n",
    "        key = networkNodeKey(coordinates)\n",
    "        return self.nodesDict.get(key)\n",
    "\n",
    "    # Function that checks if a node at the x,y coordinates is present or not in the network\n",
    "    def contains(self, coordinates):\n",
    "        coordinateKey = networkNodeKey(coordinates)\n",
    "        return coordinateKey in self.nodesDict\n",
    "\n",
    "    def get_all_nodes(self):\n",
    "        return self.nodesDict.values()\n",
    "\n",
    "def merge_two_dicts(x, y):\n",
    "    z = x.copy()   # start with x's keys and values\n",
    "    z.update(y)    # modifies z with y's keys and values & returns None\n",
    "    return z\n",
    "\n",
    "def plot_grid(cluster):\n",
    "    nodes = cluster.get_all_nodes()\n",
    "    \n",
    "    # Determine the minimum and maximum x, y coordinates\n",
    "    min_x = min(node.coordinates[0] for node in nodes)\n",
    "    max_x = max(node.coordinates[0] for node in nodes)\n",
    "    min_y = min(node.coordinates[1] for node in nodes)\n",
    "    max_y = max(node.coordinates[1] for node in nodes)\n",
    "\n",
    "    # Create a matrix for visualization\n",
    "    matrix = np.ones((max_y - min_y + 1, max_x - min_x + 1, 3)) # White background\n",
    "    \n",
    "    for node in nodes:\n",
    "        x, y = node.coordinates\n",
    "        if node.color == 1:  # cluster node\n",
    "            matrix[max_y - y, x - min_x] = [0.6901960784313725, 0.12549019607843137, 0.8627450980392157]  # Fancy purple\n",
    "    \n",
    "    # Mark the seed node with a red dot, if it's in the current view\n",
    "    if min_x <= 0 <= max_x and min_y <= 0 <= max_y:\n",
    "        matrix[max_y, -min_x] = [0, 0, 0]  # Black for the seed node\n",
    "\n",
    "    plt.imshow(matrix)\n",
    "    plt.axis('off')\n",
    "    plt.show()"
   ]
  },
  {
   "cell_type": "markdown",
   "id": "ee5dea47",
   "metadata": {},
   "source": [
    "## Run the Model.\n",
    "\n",
    "Here the code to generate the EGM cluster and frontier network until the target size is reached."
   ]
  },
  {
   "cell_type": "code",
   "execution_count": 23,
   "id": "04517784",
   "metadata": {},
   "outputs": [
    {
     "data": {
      "image/png": "[encoded data removed]",
      "text/plain": [
       "<Figure size 432x288 with 1 Axes>"
      ]
     },
     "metadata": {
      "needs_background": "light"
     },
     "output_type": "display_data"
    }
   ],
   "source": [
    "for p in range(0, size):\n",
    "    cluster_size = size\n",
    "    \n",
    "    # Generate the networks\n",
    "    cluster = Network()  # seed-cluster\n",
    "    frontier = Network()  # portion of the diamond frontier that borders the seed-cluster\n",
    "\n",
    "    # Generate the dictionary for neighbors\n",
    "    neighbors = {}\n",
    "\n",
    "    # Initialize the first nodes: the central node is black (color 1), the 4 surrounding nodes are blank (color 0)\n",
    "    node1 = Node([0, 0], 1, True, 0)\n",
    "    node2 = Node([0, 1], 0, False, 0)\n",
    "    node3 = Node([1, 0], 0, False, 0)\n",
    "    node4 = Node([0, -1], 0, False, 0)\n",
    "    node5 = Node([-1, 0], 0, False, 0)\n",
    "\n",
    "    # Add nodes to the networks\n",
    "    cluster.add(node1)\n",
    "    frontier.add(node2)\n",
    "    frontier.add(node3)\n",
    "    frontier.add(node4)\n",
    "    frontier.add(node5)\n",
    "\n",
    "for i in range(1, cluster_size):\n",
    "    \n",
    "    # Generate the cluster one node at a time\n",
    "    key_Node = random.choice(list(frontier.nodesDict))\n",
    "\n",
    "    currentNode = frontier.nodesDict[key_Node]\n",
    "\n",
    "    key_x = currentNode.coordinates[0]\n",
    "    key_y = currentNode.coordinates[1]\n",
    "    key_xy = [key_x, key_y]\n",
    "\n",
    "    cluster.add(Node(key_xy, 1, True, 0))\n",
    "    del frontier.nodesDict[key_Node]\n",
    "\n",
    "    # Frontier block creation process\n",
    "    up_x = currentNode.coordinates[0] + 1\n",
    "    up_y = currentNode.coordinates[1]\n",
    "    neighbors[\"up\"] = [up_x, up_y]\n",
    "    if (not cluster.contains(neighbors[\"up\"])) and (not frontier.contains(neighbors[\"up\"])):\n",
    "        frontier.add(Node(neighbors[\"up\"], 0, False, 0))\n",
    "\n",
    "    down_x = currentNode.coordinates[0] - 1\n",
    "    down_y = currentNode.coordinates[1]\n",
    "    neighbors[\"down\"] = [down_x, down_y]\n",
    "    if (not cluster.contains(neighbors[\"down\"])) and (not frontier.contains(neighbors[\"down\"])):\n",
    "        frontier.add(Node(neighbors[\"down\"], 0, False, 0))\n",
    "\n",
    "    left_x = currentNode.coordinates[0]\n",
    "    left_y = currentNode.coordinates[1] - 1\n",
    "    neighbors[\"left\"] = [left_x, left_y]\n",
    "    if (not cluster.contains(neighbors[\"left\"])) and (not frontier.contains(neighbors[\"left\"])):\n",
    "        frontier.add(Node(neighbors[\"left\"], 0, False, 0))\n",
    "\n",
    "    right_x = currentNode.coordinates[0]\n",
    "    right_y = currentNode.coordinates[1] + 1\n",
    "    neighbors[\"right\"] = [right_x, right_y]\n",
    "    if (not cluster.contains(neighbors[\"right\"])) and (not frontier.contains(neighbors[\"right\"])):\n",
    "        frontier.add(Node(neighbors[\"right\"], 0, False, 0))\n",
    "\n",
    "plot_grid(cluster)"
   ]
  },
  {
   "cell_type": "code",
   "execution_count": null,
   "id": "2b949301",
   "metadata": {},
   "outputs": [],
   "source": []
  }
 ],
 "metadata": {
  "kernelspec": {
   "display_name": "Python 3",
   "language": "python",
   "name": "python3"
  },
  "language_info": {
   "codemirror_mode": {
    "name": "ipython",
    "version": 3
   },
   "file_extension": ".py",
   "mimetype": "text/x-python",
   "name": "python",
   "nbconvert_exporter": "python",
   "pygments_lexer": "ipython3",
   "version": "3.8.8"
  }
 },
 "nbformat": 4,
 "nbformat_minor": 5
}
