{
 "cells": [
  {
   "cell_type": "markdown",
   "id": "13e99a44",
   "metadata": {},
   "source": [
    "## Import libraries.\n",
    "\n",
    "Import all the necessary libraries."
   ]
  },
  {
   "cell_type": "code",
   "execution_count": 124,
   "id": "ab565e7e",
   "metadata": {},
   "outputs": [],
   "source": [
    "import random\n",
    "import numpy as np\n",
    "import matplotlib.pyplot as plt"
   ]
  },
  {
   "cell_type": "markdown",
   "id": "de4aab7e",
   "metadata": {},
   "source": [
    "## Define constants."
   ]
  },
  {
   "cell_type": "code",
   "execution_count": 125,
   "id": "4213b5b7",
   "metadata": {},
   "outputs": [],
   "source": [
    "# Constants for directions and colors\n",
    "UP = (0, 1)\n",
    "DOWN = (0, -1)\n",
    "LEFT = (-1, 0)\n",
    "RIGHT = (1, 0)\n",
    "OUR_COLOR = \"O\"\n",
    "OTHER_COLOR = \"X\"\n",
    "TARGET=1000"
   ]
  },
  {
   "cell_type": "markdown",
   "id": "96940120",
   "metadata": {},
   "source": [
    "## Define all the functions.\n",
    "\n",
    "Here we define:\n",
    "- **got_empty_neighbors** function: it checks which are the empty spots around the node, then add those to the empy_neighbors set if the next node is not in grid dictionary. Return the empty_neighbors set.\n",
    "        \n",
    "- **grow_cluster** function: it chooses a new node from the empty_neighbors set, then add to that node our colour. It also add the node to the grid dictionary and to the cluster.\n",
    "        \n",
    "- **model_grow** function: it takes the target size, creates the grid and cluster seeds, and gives grid and cluster with the desired size.\n",
    "\n",
    "- **plot_grid** function: this funcion simply plot in a fancy way the cluster with target size. The **seed** is the black cell, the purple represent the EGM cluster.   \n"
   ]
  },
  {
   "cell_type": "code",
   "execution_count": 126,
   "id": "07bebaf4",
   "metadata": {},
   "outputs": [],
   "source": [
    "# Function to get neighboring empty sites of the cluster\n",
    "def get_empty_neighbors(grid, cluster):\n",
    "    directions = [UP, DOWN, LEFT, RIGHT]\n",
    "    empty_neighbors = set()\n",
    "\n",
    "    for node in cluster:\n",
    "        for direction in directions:\n",
    "            next_node = (node[0] + direction[0], node[1] + direction[1])\n",
    "            if next_node not in grid:\n",
    "                empty_neighbors.add(next_node)\n",
    "\n",
    "    return list(empty_neighbors)\n",
    "\n",
    "def grow_cluster(grid, cluster):\n",
    "    empty_neighbors = get_empty_neighbors(grid, cluster)\n",
    "    new_node = random.choice(empty_neighbors)\n",
    "    grid[new_node] = OUR_COLOR\n",
    "    cluster.append(new_node)\n",
    "    return True\n",
    "\n",
    "def model_growth(target_size):\n",
    "    grid = {(0,0): OUR_COLOR}\n",
    "    cluster = [(0, 0)]\n",
    "\n",
    "    while len(cluster) < target_size:\n",
    "        if not grow_cluster(grid, cluster):\n",
    "            break\n",
    "        if len(cluster) >= target_size:\n",
    "            return grid, cluster\n",
    "\n",
    "    return None, None\n",
    "\n",
    "def plot_grid(grid):\n",
    "    min_x = min([key[0] for key in grid])\n",
    "    max_x = max([key[0] for key in grid])\n",
    "    min_y = min([key[1] for key in grid])\n",
    "    max_y = max([key[1] for key in grid])\n",
    "\n",
    "    # Initialize a matrix with white values\n",
    "    matrix = np.ones((max_y-min_y+1, max_x-min_x+1, 3))\n",
    "\n",
    "    # Fill the matrix based on grid values\n",
    "    for (x, y), _ in grid.items():\n",
    "\n",
    "        if x==0 and y == 0:\n",
    "            matrix[max_y, -min_x] = [0, 0, 0]  # Black for the seed node\n",
    "        else:\n",
    "            matrix[max_y-y, x-min_x] = [0.6901960784313725, 0.12549019607843137, 0.8627450980392157]  # Fancy purple for our cluster nodes\n",
    "\n",
    "    # Plot the matrix\n",
    "    plt.imshow(matrix)\n",
    "    plt.axis('off')\n",
    "    plt.show()"
   ]
  },
  {
   "cell_type": "markdown",
   "id": "90e40347",
   "metadata": {},
   "source": [
    "## Run the model.\n",
    "\n",
    "In this code cell we actually run the model to generate our EGM cluster with target size. \n",
    "The code continue to run until a cluster with desired size is generated."
   ]
  },
  {
   "cell_type": "code",
   "execution_count": 132,
   "id": "158ccd7b",
   "metadata": {},
   "outputs": [
    {
     "name": "stdout",
     "output_type": "stream",
     "text": [
      "Cluster of size 1000\n"
     ]
    },
    {
     "data": {
      "image/png": "[encoded data removed]",
      "text/plain": [
       "<Figure size 432x288 with 1 Axes>"
      ]
     },
     "metadata": {
      "needs_background": "light"
     },
     "output_type": "display_data"
    }
   ],
   "source": [
    "while True:\n",
    "    grid, cluster = model_growth(TARGET)\n",
    "    if grid:  # If we obtained a grid, that means we got a cluster of required size.\n",
    "        print(\"Cluster of size\", len(cluster))\n",
    "        plot_grid(grid)\n",
    "        break"
   ]
  }
 ],
 "metadata": {
  "kernelspec": {
   "display_name": "Python 3",
   "language": "python",
   "name": "python3"
  },
  "language_info": {
   "codemirror_mode": {
    "name": "ipython",
    "version": 3
   },
   "file_extension": ".py",
   "mimetype": "text/x-python",
   "name": "python",
   "nbconvert_exporter": "python",
   "pygments_lexer": "ipython3",
   "version": "3.8.8"
  }
 },
 "nbformat": 4,
 "nbformat_minor": 5
}
